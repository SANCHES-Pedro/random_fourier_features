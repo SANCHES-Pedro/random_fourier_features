{
 "cells": [
  {
   "cell_type": "code",
   "execution_count": 95,
   "id": "35feeca0",
   "metadata": {},
   "outputs": [],
   "source": [
    "import numpy as np\n",
    "import os\n",
    "import seaborn as sns\n",
    "import matplotlib.pyplot as plt\n",
    "from matplotlib.widgets import Slider\n",
    "from matplotlib.ticker import FormatStrFormatter\n",
    "import imageio"
   ]
  },
  {
   "cell_type": "code",
   "execution_count": 20,
   "id": "181c7cbb",
   "metadata": {},
   "outputs": [],
   "source": [
    "class RandomFourierFeatures:\n",
    "    def __init__(self,batch_size: int = 1,embedding_size: int = 5,features_size : int  = 1):\n",
    "        scale = 1.0\n",
    "        self.batch_size = batch_size\n",
    "        self.embedding_size = embedding_size\n",
    "        self.features_size = features_size\n",
    "        self.W = np.random.randn(features_size,embedding_size)*scale  # [embedding_size] sampled N(0,1)\n",
    "    def get_random_fourier_embedding(self,x):\n",
    "        assert x.shape[-1] == self.W.shape[0]\n",
    "        x_proj = (x @ self.W) * 2 * np.pi # [bs,features,embedding_size]\n",
    "        x_fourier = np.concatenate([np.sin(x_proj), np.cos(x_proj)], axis=-1)\n",
    "        return x_fourier\n",
    "\n",
    "# hue_values = np.zeros_like(x_fourier[0].numpy())\n",
    "# hue_values[:len(hue_values)//2] = 1\n",
    "# u = torch.distributions.uniform.Uniform(torch.zeros(batch_size,features_size),torch.ones(batch_size,features_size))\n",
    "# x = u.sample() #[bs,features], features can be age,health state, sex, etc, x between [0,1)"
   ]
  },
  {
   "cell_type": "code",
   "execution_count": 121,
   "id": "85825e0e",
   "metadata": {},
   "outputs": [],
   "source": [
    "batch_size = 1\n",
    "features_size = 1\n",
    "embedding_size = 5\n",
    "nb_points = 15\n",
    "x_list = [torch.ones(batch_size,features_size)*i/nb_points for i in range(nb_points)]\n",
    "fourier_features = RandomFourierFeatures(batch_size,embedding_size,features_size)\n",
    "hue_values= [\"sin\"]*embedding_size + [\"cos\"]*embedding_size"
   ]
  },
  {
   "cell_type": "code",
   "execution_count": 122,
   "id": "552024f2",
   "metadata": {},
   "outputs": [],
   "source": [
    "filenames = []\n",
    "for x in x_list:\n",
    "\n",
    "    x_fourier = fourier_features.get_random_fourier_embedding(x)\n",
    "\n",
    "    filename = f\"{x[0,0]}.png\"\n",
    "    filenames.append(filename)\n",
    "\n",
    "    fig,axs = plt.subplots(figsize=(12,5))#\n",
    "    axs = sns.barplot(x=np.around(np.concatenate([fourier_features.W[0],fourier_features.W[0]]), decimals=3),\n",
    "                         y=x_fourier[0],\n",
    "                         hue = hue_values)\n",
    "    axs.set_ylim([-1,1])\n",
    "\n",
    "    axs.title.set_text('Fourier Embedding Output')\n",
    "\n",
    "    plt.subplots_adjust(left=0.25, bottom=0.25)\n",
    "    axamp = plt.axes([0.1, 0.25, 0.0225, 0.63])\n",
    "    amp_slider = Slider(\n",
    "        ax=axamp,\n",
    "        label=\"Scalar Input\",\n",
    "        valmin=0,\n",
    "        valmax=1,\n",
    "        valinit=x[0,0],\n",
    "        orientation=\"vertical\",\n",
    "        facecolor = sns.color_palette()[5]\n",
    "    )\n",
    "\n",
    "    plt.savefig(filename)\n",
    "    plt.close()"
   ]
  },
  {
   "cell_type": "code",
   "execution_count": 123,
   "id": "77d38a85",
   "metadata": {},
   "outputs": [],
   "source": [
    "with imageio.get_writer('fourier_embedding.gif', mode='I') as writer:\n",
    "    for filename in filenames:\n",
    "        image = imageio.imread(filename)\n",
    "        writer.append_data(image)"
   ]
  },
  {
   "cell_type": "code",
   "execution_count": 124,
   "id": "9bf378f5",
   "metadata": {},
   "outputs": [],
   "source": [
    "for filename in set(filenames):\n",
    "    os.remove(filename)"
   ]
  },
  {
   "cell_type": "code",
   "execution_count": null,
   "id": "1a1f6c63",
   "metadata": {},
   "outputs": [],
   "source": [
    "[CODE][Pedro][7/Oct/2021] Hey guys, @Tian and I implemented yesterday a random fourier features embedding from the paper below. I can be used for embedding any scalar information into higher dimensional vector for conditioning. It seems to work very well. In this case, we are converting a scalar between 0 and 1 into a 10 dimensional vector. You can see that small changes in the scalar output significant change in some of the embeddings. \n",
    "\n",
    "Is very simple, only 5 lines of numpy code. \n",
    "\n",
    "https://arxiv.org/abs/2006.10739"
   ]
  }
 ],
 "metadata": {
  "kernelspec": {
   "display_name": "Python 3",
   "language": "python",
   "name": "python3"
  },
  "language_info": {
   "codemirror_mode": {
    "name": "ipython",
    "version": 3
   },
   "file_extension": ".py",
   "mimetype": "text/x-python",
   "name": "python",
   "nbconvert_exporter": "python",
   "pygments_lexer": "ipython3",
   "version": "3.8.10"
  }
 },
 "nbformat": 4,
 "nbformat_minor": 5
}
